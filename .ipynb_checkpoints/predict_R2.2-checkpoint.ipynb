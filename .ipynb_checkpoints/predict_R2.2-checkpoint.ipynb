{
 "cells": [
  {
   "cell_type": "code",
   "execution_count": 93,
   "id": "4ed7b93f-e40c-46cf-b3f2-b805e5e57ff7",
   "metadata": {
    "vscode": {
     "languageId": "r"
    }
   },
   "outputs": [],
   "source": [
    "library(\"tidyr\")\n",
    "library(\"dplyr\")\n",
    "library(\"nhs.predict\")\n",
    "library(\"ggplot2\")\n",
    "library(\"ggsci\")"
   ]
  },
  {
   "cell_type": "markdown",
   "id": "8389cd63-e882-425b-88be-8de1f45e1d25",
   "metadata": {},
   "source": [
    "# input data"
   ]
  },
  {
   "cell_type": "code",
   "execution_count": 94,
   "id": "e0281fe4-02b7-43a7-b840-ab195b592979",
   "metadata": {
    "vscode": {
     "languageId": "r"
    }
   },
   "outputs": [],
   "source": [
    "age.start  <- 26\n",
    "screen     <- 0     # Clinically detected = 0, screen detected = 1 (webのsymptoms -> 0)\n",
    "size       <- 2    # Tumour size mm\n",
    "grade      <- 2     # Tumour grade\n",
    "nodes      <- 9     # Number positive nodes\n",
    "er         <- 1     # ER+ = 1, ER- = 0\n",
    "her2       <- 1     # HER2+ = 1, HER2- = 0, missing = 9\n",
    "ki67       <- 0     # KI67+ = 1, KI67- = 0, missing = 9\n",
    "generation <- 2     # Chemo generation 0, 2 or 3 only\n",
    "horm       <- 1     # Hormone therapy Yes = 1, no = 0\n",
    "traz       <- 1     # Trastuzumab therapy Yes = 1, no = 0\n",
    "bis        <- 0     # Bisphosphonate therapy Yes = 1, no = 0\n",
    "radio      <- 0     # Radiotherapy Yes = 1, no = 0\n",
    "\n",
    "r.enabled  <- 0     # Radiotherapy enabled = 1, disabled = 0"
   ]
  },
  {
   "cell_type": "markdown",
   "id": "54701de9-7591-49e2-98dc-6b2d68be454d",
   "metadata": {},
   "source": [
    "# screenとgradeの調整"
   ]
  },
  {
   "cell_type": "code",
   "execution_count": 95,
   "id": "ec3e1457-7155-4c4f-9283-aa430430ce16",
   "metadata": {
    "vscode": {
     "languageId": "r"
    }
   },
   "outputs": [],
   "source": [
    "##----------------------------------------------------------------\n",
    "##[WINTON FIX] Fix inputs\n",
    "screen    <- ifelse(screen == 2, 0.204, screen) #0,1,2(unknown)\n",
    "grade     <- ifelse(grade == 9, 2.13, grade) # Tumour grade 1,2,3"
   ]
  },
  {
   "cell_type": "markdown",
   "id": "7ee25482-e356-463b-a886-d7d269385f14",
   "metadata": {},
   "source": [
    "# time,ageの設定"
   ]
  },
  {
   "cell_type": "code",
   "execution_count": 96,
   "id": "a3073240-dfc6-498b-80d5-91e40ee00c8c",
   "metadata": {
    "vscode": {
     "languageId": "r"
    }
   },
   "outputs": [],
   "source": [
    "## ------------------------------------------------------------------------\n",
    "time      <- c(1:15)\n",
    "age       <- age.start - 1 + time\n",
    "##[WINTON FIX] - Input changed to include grade = 9\n",
    "grade.val <- ifelse(er==1, grade, ifelse(grade==2 || grade == 3, 1, 0)) # Grade variable for ER neg"
   ]
  },
  {
   "cell_type": "markdown",
   "id": "e85a6ac1-5d0b-44ee-8fd4-8c0bc0383127",
   "metadata": {},
   "source": [
    "# baselineの係数と変数"
   ]
  },
  {
   "cell_type": "code",
   "execution_count": 97,
   "id": "3aa9fe4e-269b-4681-a0ea-6a05fdb28ab0",
   "metadata": {
    "vscode": {
     "languageId": "r"
    }
   },
   "outputs": [
    {
     "data": {
      "text/html": [
       "1.84503730702012"
      ],
      "text/latex": [
       "1.84503730702012"
      ],
      "text/markdown": [
       "1.84503730702012"
      ],
      "text/plain": [
       "[1] 1.845037"
      ]
     },
     "metadata": {},
     "output_type": "display_data"
    },
    {
     "data": {
      "text/html": [
       "1.49331"
      ],
      "text/latex": [
       "1.49331"
      ],
      "text/markdown": [
       "1.49331"
      ],
      "text/plain": [
       "[1] 1.49331"
      ]
     },
     "metadata": {},
     "output_type": "display_data"
    }
   ],
   "source": [
    "## ------------------------------------------------------------------------\n",
    "age.mfp.1   <- ifelse(er==1, (age.start/10)^-2-.0287449295, age.start-56.3254902)\n",
    "age.beta.1  <- ifelse(er==1, 34.53642, 0.0089827)\n",
    "age.mfp.2   <- ifelse(er==1, (age.start/10)^-2*log(age.start/10)-.0510121013, 0)\n",
    "age.beta.2  <- ifelse(er==1, -34.20342, 0)\n",
    "size.mfp    <- ifelse(er==1, log(size/100)+1.545233938, (size/100)^.5-.5090456276)\n",
    "size.beta   <- ifelse(er==1, 0.7530729, 2.093446)\n",
    "nodes.mfp   <- ifelse(er==1, log((nodes+1)/10)+1.387566896, log((nodes+1)/10)+1.086916249)\n",
    "nodes.beta  <- ifelse(er==1, 0.7060723, .6260541)\n",
    "grade.beta  <- ifelse(er==1, 0.746655, 1.129091)\n",
    "screen.beta <- ifelse(er==1, -0.22763366, 0)\n",
    "her2.beta   <- ifelse(her2==1, 0.2413,\n",
    "                      ifelse(her2==0, -0.0762,0 ))\n",
    "ki67.beta   <- ifelse(ki67==1 & er==1, 0.14904,\n",
    "                      ifelse(ki67==0 & er==1, -0.11333,0 )) #[WINTON FIX] - Missing 3 at the end\n",
    "\n",
    "pi <- age.beta.1*age.mfp.1 + age.beta.2*age.mfp.2 + size.beta*size.mfp +\n",
    "  nodes.beta*nodes.mfp + grade.beta*grade.val + screen.beta*screen +\n",
    "  her2.beta + ki67.beta\n",
    "pi\n",
    "grade.beta*grade.val"
   ]
  },
  {
   "cell_type": "markdown",
   "id": "47ac28f1-ef15-425a-833a-997251627a20",
   "metadata": {
    "tags": []
   },
   "source": [
    "# baselineと調整項"
   ]
  },
  {
   "cell_type": "markdown",
   "id": "2969d6ef-bf12-46f5-9e63-0b4f9fe499aa",
   "metadata": {},
   "source": [
    "$$ \n",
    "\\begin{align}\n",
    "    Other \\ mortality \\ : \\ prognostic \\ index \\ (mi)  &= 0.0698252 \\times \\big((\\frac{age}{10}\\big)^2 - 34.23391957\\big) + Radiotherapy \\ による調整項\\\\\\\\\n",
    "    Breast \\ cancer \\  mortality \\ : \\ prognostic \\ index \\ (pi)  &= b'_cx_R\n",
    "\\end{align}\n",
    "$$"
   ]
  },
  {
   "cell_type": "code",
   "execution_count": 84,
   "id": "f85b5330-350f-4f4e-a8fa-f37884c26eec",
   "metadata": {
    "vscode": {
     "languageId": "r"
    }
   },
   "outputs": [],
   "source": [
    "## ----baseline_adjust-----------------------------------------------------\n",
    "r.prop   <- 0.69 # Proportion of population receiving radiotherapy\n",
    "r.breast <- 0.82 # Relative hazard breast specifi mortality from Darby et al\n",
    "r.other  <- 1.07 # Relative hazard other mortality from Darby et al\n",
    "\n",
    "if (r.enabled == 1) {\n",
    "  r.base.br  <- log(1/((1-r.prop) + r.prop*r.breast))\n",
    "  r.base.oth <- log(1/((1-r.prop) + r.prop*r.other))\n",
    "} else {\n",
    "  r.base.br   <- 0\n",
    "  r.base.oth  <- 0\n",
    "}"
   ]
  },
  {
   "cell_type": "code",
   "execution_count": 85,
   "id": "240b76f8-bba2-422e-a1bb-de6f4388df76",
   "metadata": {
    "vscode": {
     "languageId": "r"
    }
   },
   "outputs": [
    {
     "data": {
      "text/html": [
       "-1.91837192875916"
      ],
      "text/latex": [
       "-1.91837192875916"
      ],
      "text/markdown": [
       "-1.91837192875916"
      ],
      "text/plain": [
       "[1] -1.918372"
      ]
     },
     "metadata": {},
     "output_type": "display_data"
    }
   ],
   "source": [
    "## ------------------------------------------------------------------------\n",
    "# Other mortality prognostic index (mi)\n",
    "mi <- 0.0698252*((age.start/10)^2-34.23391957) + r.base.oth\n",
    "mi"
   ]
  },
  {
   "cell_type": "code",
   "execution_count": 86,
   "id": "749f034d-0cca-4471-bea4-23764e6e9280",
   "metadata": {
    "vscode": {
     "languageId": "r"
    }
   },
   "outputs": [
    {
     "data": {
      "text/html": [
       "1.61740364702012"
      ],
      "text/latex": [
       "1.61740364702012"
      ],
      "text/markdown": [
       "1.61740364702012"
      ],
      "text/plain": [
       "[1] 1.617404"
      ]
     },
     "metadata": {},
     "output_type": "display_data"
    }
   ],
   "source": [
    "# Breast cancer mortality prognostic index (pi)\n",
    "pi <- age.beta.1*age.mfp.1 + age.beta.2*age.mfp.2 + size.beta*size.mfp +\n",
    "  nodes.beta*nodes.mfp + grade.beta*grade.val + screen.beta*screen +\n",
    "  her2.beta + ki67.beta + r.base.br\n",
    "pi"
   ]
  },
  {
   "cell_type": "code",
   "execution_count": 87,
   "id": "04a81ed4-6a0b-4cd0-8297-8168e0488050",
   "metadata": {
    "vscode": {
     "languageId": "r"
    }
   },
   "outputs": [],
   "source": [
    "c     <- ifelse(generation == 0, 0, ifelse(generation == 2, -.248, -.446))\n",
    "h     <- ifelse(horm==1 & er==1, -0.3857, 0)\n",
    "h10  <- c(rep(h, 10), rep(-.26+h, 5)) #including both ATLAS and aTTom trials\n",
    "t     <- ifelse(her2==1 & traz==1, -.3567, 0)\n",
    "b     <- ifelse(bis==1, -0.198, 0) # Only applicable to menopausal women.\n",
    "\n",
    "if(r.enabled == 1) {\n",
    "  r.br  <- ifelse(radio==1, log(r.breast), 0)\n",
    "  r.oth <- ifelse(radio==1, log(r.other), 0)\n",
    "} else {\n",
    "  r.br = 0\n",
    "  r.oth = 0\n",
    "}\n",
    "\n",
    "rx <- tibble(s = rep(0, 15),\n",
    "             c = c,\n",
    "             h = h,\n",
    "             t = t,\n",
    "             b = b,\n",
    "             hc = h + c,\n",
    "             ht = h + t,\n",
    "             hb = h + b,\n",
    "             ct = c + t, # It is unlikely that hromone therapy would not be offered\n",
    "             cb = c + b, # in a woman with ER positive disease\n",
    "             tb = t + b,\n",
    "             hct = h + c + t,\n",
    "             hcb = h + c + b,\n",
    "             htb = h + t + b,\n",
    "             ctb = c + t + b,\n",
    "             hctb = h + c + t + b,\n",
    "             h10 = h10,\n",
    "             h10c = h10 + c,\n",
    "             h10t = h10 + t,\n",
    "             h10b = h10 + b,\n",
    "             h10ct = h10 + c + t,\n",
    "             h10cb = h10 + c + b,\n",
    "             h10tb = h10 + t + b,\n",
    "             h10ctb = h10 + c + t + b,\n",
    "             hr = h + r.br,\n",
    "             rc = r.br + c,\n",
    "             rt = r.br + t,\n",
    "             rb = r.br + b,\n",
    "             hrc = h + r.br + c,\n",
    "             hrt = h + r.br + t,\n",
    "             hrb = h + r.br + b,\n",
    "             rct = r.br + c + t,\n",
    "             rcb = r.br + c + b,\n",
    "             rtb = r.br + t + b,\n",
    "             hrct = h + r.br + c + t,\n",
    "             hrcb = h + r.br + t + b,\n",
    "             hrtb = h + r.br + t + b,\n",
    "             rctb = r.br + c + t + b,\n",
    "             hrctb = h + r.br + c + t + b,\n",
    "             h10r = h10 + r.br,\n",
    "             h10rc = h10 + r.br + c,\n",
    "             h10rt = h10 + r.br + t,\n",
    "             h10rb = h10 + r.br + b,\n",
    "             h10rct = h10 + r.br + c + t,\n",
    "             h10rcb = h10 + r.br + t + b,\n",
    "             h10rtb = h10 + r.br + t + b,\n",
    "             h10rctb = h10 + r.br + c + t + b)"
   ]
  },
  {
   "cell_type": "code",
   "execution_count": 88,
   "id": "d80d5c91-405a-490c-bbab-5335fe17738a",
   "metadata": {
    "vscode": {
     "languageId": "r"
    }
   },
   "outputs": [],
   "source": [
    "rx <- rx + pi\n",
    "\n",
    "cols <- ncol(rx)"
   ]
  },
  {
   "cell_type": "markdown",
   "id": "af928837-0182-4cd6-aa60-317e55517078",
   "metadata": {},
   "source": [
    "# Other mortalityの累積死亡率"
   ]
  },
  {
   "cell_type": "code",
   "execution_count": 89,
   "id": "edce30a7-e2c1-4d50-aa73-d9c3b8de9846",
   "metadata": {
    "vscode": {
     "languageId": "r"
    }
   },
   "outputs": [
    {
     "name": "stdout",
     "output_type": "stream",
     "text": [
      "累積 :  0.0004779531 0.001155765 0.001985081 0.002953698 0.004056486 0.005291253 0.006657338 0.00815498 0.00978499 0.01154857 0.01344717 0.01548246 0.0176562 0.01997028 0.02242662 \n",
      "年単位 :  0.0004779531 0.0006778114 0.0008293168 0.0009686164 0.001102788 0.001234768 0.001366085 0.001497641 0.001630011 0.001763577 0.001898607 0.002035285 0.002173744 0.002314075 0.002456337 \n"
     ]
    }
   ],
   "source": [
    "## ------------------------------------------------------------------------\n",
    "# Generate cumulative baseline other mortality\n",
    "base.m.cum.oth <- exp(-6.052919 + (1.079863*log(time)) + (.3255321*time^.5))\n",
    "\n",
    "# Generate cumulative survival non-breast mortality\n",
    "s.cum.oth <- exp(-exp(mi+r.oth)*base.m.cum.oth)\n",
    "\n",
    "# Convert cumulative mortality rate into cumulative risk\n",
    "m.cum.oth <- 1- s.cum.oth\n",
    "\n",
    "# Annual other mortality rate 年単位の死亡率\n",
    "m.oth <- m.cum.oth\n",
    "for (i in 2:15) {\n",
    "  m.oth[i] <- m.cum.oth[i] - m.cum.oth[i-1]\n",
    "}\n",
    "cat(\"累積 : \", m.cum.oth,  \"\\n\")\n",
    "cat(\"年単位 : \", m.oth, \"\\n\")"
   ]
  },
  {
   "cell_type": "code",
   "execution_count": 90,
   "id": "aa8d07bf-8f97-456c-a23e-912c9951ddaf",
   "metadata": {
    "vscode": {
     "languageId": "r"
    }
   },
   "outputs": [
    {
     "data": {
      "image/png": "[encoded data removed]",
      "text/plain": [
       "Plot with title “other mortality rate”"
      ]
     },
     "metadata": {
      "image/png": {
       "height": 420,
       "width": 420
      }
     },
     "output_type": "display_data"
    }
   ],
   "source": [
    "plot(m.cum.oth, type=\"o\", main=\"other mortality rate\")"
   ]
  },
  {
   "cell_type": "markdown",
   "id": "8dd0609b-a6be-42b2-9f25-c994a0ba8b5e",
   "metadata": {},
   "source": [
    "# baseline breast mortality 累積死亡率"
   ]
  },
  {
   "cell_type": "markdown",
   "id": "7d90d76e-7c74-4c3a-9c69-8526f065a069",
   "metadata": {},
   "source": [
    "$$ \n",
    "\\begin{align}\n",
    "    ER+ : \\ H_c(t)  &= exp\\big(0.7424402 - \\frac{7.527762}{\\sqrt{t}} - 1.812513 \\times \\frac{log(t)}{\\sqrt{t}}\\big) \\\\\\\\\n",
    "    ER- : \\ H_c(t)  &= exp\\big(-1.156036 + \\frac{0.4707332}{t^2} - \\frac{3.51355}{t}\\big)\n",
    "\\end{align}\n",
    "$$"
   ]
  },
  {
   "cell_type": "code",
   "execution_count": 91,
   "id": "575fc2e9-8f75-4e38-9e4b-8e4523064075",
   "metadata": {
    "vscode": {
     "languageId": "r"
    }
   },
   "outputs": [],
   "source": [
    "## ------------------------------------------------------------------------\n",
    "# Generate cumulative baseline breast mortality\n",
    "if (er==1) {\n",
    "  base.m.cum.br <- exp(0.7424402 - 7.527762/time^.5 - 1.812513*log(time)/time^.5)\n",
    "} else { base.m.cum.br <- exp(-1.156036 + 0.4707332/time^2 - 3.51355/time)\n",
    "}\n",
    "\n",
    "# Generate annual baseline breast mortality\n",
    "base.m.br <- base.m.cum.br\n",
    "for (i in 2:15) {\n",
    "  base.m.br[i] <- base.m.cum.br[i] - base.m.cum.br[i-1] }"
   ]
  },
  {
   "cell_type": "code",
   "execution_count": 92,
   "id": "030abb65-6c97-4dac-8827-1fa0279a8115",
   "metadata": {},
   "outputs": [
    {
     "data": {
      "text/html": [
       "<style>\n",
       ".list-inline {list-style: none; margin:0; padding: 0}\n",
       ".list-inline>li {display: inline-block}\n",
       ".list-inline>li:not(:last-child)::after {content: \"\\00b7\"; padding: 0 .5ex}\n",
       "</style>\n",
       "<ol class=list-inline><li>0.00113024393259644</li><li>0.00421604973302348</li><li>0.0086226450146956</li><li>0.0138734397561718</li><li>0.0196700869443383</li><li>0.0258207268456478</li><li>0.0321976327217453</li><li>0.0387132426564642</li><li>0.0453061193732665</li><li>0.0519323792863252</li><li>0.0585602594302007</li><li>0.0651665590771</li><li>0.0717342428737172</li><li>0.0782507869519852</li><li>0.0847070136919574</li></ol>\n"
      ],
      "text/latex": [
       "\\begin{enumerate*}\n",
       "\\item 0.00113024393259644\n",
       "\\item 0.00421604973302348\n",
       "\\item 0.0086226450146956\n",
       "\\item 0.0138734397561718\n",
       "\\item 0.0196700869443383\n",
       "\\item 0.0258207268456478\n",
       "\\item 0.0321976327217453\n",
       "\\item 0.0387132426564642\n",
       "\\item 0.0453061193732665\n",
       "\\item 0.0519323792863252\n",
       "\\item 0.0585602594302007\n",
       "\\item 0.0651665590771\n",
       "\\item 0.0717342428737172\n",
       "\\item 0.0782507869519852\n",
       "\\item 0.0847070136919574\n",
       "\\end{enumerate*}\n"
      ],
      "text/markdown": [
       "1. 0.00113024393259644\n",
       "2. 0.00421604973302348\n",
       "3. 0.0086226450146956\n",
       "4. 0.0138734397561718\n",
       "5. 0.0196700869443383\n",
       "6. 0.0258207268456478\n",
       "7. 0.0321976327217453\n",
       "8. 0.0387132426564642\n",
       "9. 0.0453061193732665\n",
       "10. 0.0519323792863252\n",
       "11. 0.0585602594302007\n",
       "12. 0.0651665590771\n",
       "13. 0.0717342428737172\n",
       "14. 0.0782507869519852\n",
       "15. 0.0847070136919574\n",
       "\n",
       "\n"
      ],
      "text/plain": [
       " [1] 0.001130244 0.004216050 0.008622645 0.013873440 0.019670087 0.025820727\n",
       " [7] 0.032197633 0.038713243 0.045306119 0.051932379 0.058560259 0.065166559\n",
       "[13] 0.071734243 0.078250787 0.084707014"
      ]
     },
     "metadata": {},
     "output_type": "display_data"
    }
   ],
   "source": [
    "base.m.cum.br"
   ]
  },
  {
   "cell_type": "code",
   "execution_count": 66,
   "id": "22122676-feb5-4b1b-b58e-61fd0a95c222",
   "metadata": {
    "vscode": {
     "languageId": "r"
    }
   },
   "outputs": [],
   "source": [
    "# Generate the annual breast cancer specific mortality rate\n",
    "m.br <- base.m.br*exp(rx)\n",
    "\n",
    "# Calculate the cumulative breast cancer mortality rate\n",
    "m.cum.br <- apply(m.br, 2, cumsum)\n",
    "\n",
    "# Calculate the cumulative breast cancer survival\n",
    "s.cum.br <- exp(- m.cum.br)\n",
    "m.cum.br <- 1- s.cum.br\n",
    "\n",
    "m.br <- m.cum.br\n",
    "for (j in 1:cols) {\n",
    "  for (i in 2:15) {\n",
    "    m.br[i,j] <- m.cum.br[i,j] - m.cum.br[i-1,j]\n",
    "  }\n",
    "}\n",
    "\n",
    "# Cumulative all cause mortality conditional on surviving breast and all cause mortality\n",
    "m.cum.all <- 1 - s.cum.oth*s.cum.br\n",
    "s.cum.all <- 100-100*m.cum.all\n",
    "\n",
    "# Annual all cause mortality\n",
    "m.all <- m.cum.all\n",
    "for (j in 1:cols) {\n",
    "  for (i in 2:15) {\n",
    "    m.all[i,j] <- m.cum.all[i,j] - m.cum.all[i-1,j]\n",
    "  }\n",
    "}"
   ]
  },
  {
   "cell_type": "markdown",
   "id": "291397db-571d-4435-9dce-94e134f9e5cb",
   "metadata": {},
   "source": [
    "# Dataframe化して確認"
   ]
  },
  {
   "cell_type": "code",
   "execution_count": 67,
   "id": "921a6702-87e3-432e-bf55-33b753897fd1",
   "metadata": {
    "vscode": {
     "languageId": "r"
    }
   },
   "outputs": [],
   "source": [
    "other <- data.frame(s.cum.oth * 100)\n",
    "colnames(other) <- c(\"other\")"
   ]
  },
  {
   "cell_type": "code",
   "execution_count": 68,
   "id": "1b86e698-e575-4d9e-8156-eba6e747e010",
   "metadata": {
    "vscode": {
     "languageId": "r"
    }
   },
   "outputs": [],
   "source": [
    "results_table <- data.frame(s.cum.all)\n",
    "select_col <- c('s','h','c','t','b','h10','h10t','h10c','ctb')\n",
    "results_selected <- results_table[,select_col]\n",
    "results_selected <- cbind(other, results_selected)\n",
    "num_col <- ncol(results_selected)"
   ]
  },
  {
   "cell_type": "code",
   "execution_count": 69,
   "id": "accee297-b400-4fe0-98cf-53963d548f5c",
   "metadata": {
    "vscode": {
     "languageId": "r"
    }
   },
   "outputs": [
    {
     "ename": "ERROR",
     "evalue": "Error in melt(results_selected): could not find function \"melt\"\n",
     "output_type": "error",
     "traceback": [
      "Error in melt(results_selected): could not find function \"melt\"\nTraceback:\n"
     ]
    }
   ],
   "source": [
    "melted <- melt(results_selected)\n",
    "year <- data.frame(rep(c(1:15),num_col))\n",
    "melted <- cbind(year, melted)\n",
    "\n",
    "colnames(melted) <- c(\"year\", \"type\", \"survival_rate\")"
   ]
  },
  {
   "cell_type": "code",
   "execution_count": null,
   "id": "70e47493-7c34-4cda-a2b9-993b74f635d3",
   "metadata": {
    "vscode": {
     "languageId": "r"
    }
   },
   "outputs": [],
   "source": [
    "g <- ggplot(melted, aes(x = year, y = survival_rate, group = type, colour = type)) + geom_line()\n",
    "\n",
    "\n",
    "g <- g + theme(axis.title.x = element_text(size = 20, family = \"Arial\"),\n",
    "               axis.title.y = element_text(size = 20, family = \"Arial\"),\n",
    "               axis.text.x = element_text(size = 20, colour = 1, family = \"Arial\"),\n",
    "               axis.text.y = element_text(size = 20, colour = 1, family = \"Arial\"),\n",
    "               title=element_text(size = 25, family = \"Arial\")\n",
    "              )\n",
    "g <- g + labs(x = \"Year\", y = \"Overall Survival (%)\", title=\"Survival curve\")\n",
    "plot(g)"
   ]
  },
  {
   "cell_type": "code",
   "execution_count": null,
   "id": "58e03b84-50a3-45f8-9f71-46096c7f32d5",
   "metadata": {
    "vscode": {
     "languageId": "r"
    }
   },
   "outputs": [],
   "source": [
    "results_selected[c(5,10,15),select_col]"
   ]
  },
  {
   "cell_type": "code",
   "execution_count": null,
   "id": "931339c5-0bb3-4968-a261-4985e5f5145a",
   "metadata": {
    "vscode": {
     "languageId": "r"
    }
   },
   "outputs": [],
   "source": [
    "## ------------------------------------------------------------------------\n",
    "# Proportion of all cause mortality that is breast cancer\n",
    "prop.br      <- m.br/(m.br + m.oth)\n",
    "pred.m.br    <- prop.br*m.all\n",
    "pred.cum.br  <- apply(pred.m.br, 2, cumsum)\n",
    "pred.m.oth   <- m.all - pred.m.br\n",
    "pred.cum.oth <- apply(pred.m.oth, 2, cumsum)\n",
    "pred.cum.all <- pred.cum.br + pred.cum.oth"
   ]
  },
  {
   "cell_type": "code",
   "execution_count": null,
   "id": "2c7ed911-0d97-4476-bbb4-55a0482c47bd",
   "metadata": {
    "vscode": {
     "languageId": "r"
    }
   },
   "outputs": [],
   "source": [
    "## ------------------------------------------------------------------------\n",
    "# rx benefits\n",
    "# version implemented on web has benefit as difference in breast specific mortality\n",
    "benefits2.2 <- 100*(pred.cum.all[,1] - pred.cum.all)"
   ]
  },
  {
   "cell_type": "code",
   "execution_count": null,
   "id": "64daa002-bb2d-4526-ab5a-8db6dd09dc30",
   "metadata": {
    "vscode": {
     "languageId": "r"
    }
   },
   "outputs": [],
   "source": [
    "## -----------------------------------------------------------------------\n",
    "#\n",
    "start <- 6\n",
    "m.oth <- m.oth[start:15]\n",
    "m.br <- m.br[start:15,]\n",
    "m.all <- m.all[start:15,]\n",
    "\n",
    "# Proportion of all cause mortality that is breast cancer\n",
    "prop.br      <- m.br/(m.br + m.oth)\n",
    "pred.m.br    <- prop.br*m.all\n",
    "pred.cum.br  <- apply(pred.m.br, 2, cumsum)\n",
    "pred.m.oth   <- m.all - pred.m.br\n",
    "pred.cum.oth <- apply(pred.m.oth, 2, cumsum)\n",
    "pred.cum.all <- pred.cum.br + pred.cum.oth"
   ]
  },
  {
   "cell_type": "code",
   "execution_count": null,
   "id": "bad2e1a8-d7a3-442e-81d2-a3f31e7b7978",
   "metadata": {
    "vscode": {
     "languageId": "r"
    }
   },
   "outputs": [],
   "source": [
    "## ------------------------------------------------------------------------\n",
    "# rx benefits\n",
    "# version implemented on web has benefit as difference in breast specific mortality\n",
    "benefits2.2.delay <- 100*(pred.cum.all[,1] - pred.cum.all)"
   ]
  },
  {
   "cell_type": "code",
   "execution_count": null,
   "id": "f25ceb0a-6e4e-4220-8fa3-7e80623d7906",
   "metadata": {
    "vscode": {
     "languageId": "r"
    }
   },
   "outputs": [],
   "source": [
    "a <-data(example_data)"
   ]
  },
  {
   "cell_type": "code",
   "execution_count": null,
   "id": "2bd7bd4e-8d65-4e1c-a8f0-79ba07bfafb7",
   "metadata": {
    "vscode": {
     "languageId": "r"
    }
   },
   "outputs": [],
   "source": [
    "colnames(example_data)"
   ]
  },
  {
   "cell_type": "code",
   "execution_count": null,
   "id": "799c745d-23b1-407d-94b9-5eae62be9523",
   "metadata": {
    "vscode": {
     "languageId": "r"
    }
   },
   "outputs": [],
   "source": [
    "library(\"readr\")\n",
    "example_data %>% write_csv(\"./input_data.csv\")"
   ]
  },
  {
   "cell_type": "markdown",
   "id": "43b1cf7b-1ecd-4a7b-a76d-d4c0e1056882",
   "metadata": {},
   "source": [
    "\n",
    "for data, event in zip(input_csv, events):\n",
    "    p1  = I(data, event)\n",
    "    ps.append(p1)\n",
    "------------------------------\n",
    "                       \n",
    "                       \n",
    "                       \n",
    "    p1.predict()\n",
    "    p1.ER \n",
    "    p1.treatoptions -> \"_c__\", \"h0c1t0b0\"\n",
    "    ps.append()"
   ]
  },
  {
   "cell_type": "code",
   "execution_count": null,
   "id": "6c5a9ec8-2c75-4909-bab3-290f3bbc3533",
   "metadata": {},
   "outputs": [],
   "source": []
  }
 ],
 "metadata": {
  "kernelspec": {
   "display_name": "R",
   "language": "R",
   "name": "ir"
  },
  "language_info": {
   "codemirror_mode": "r",
   "file_extension": ".r",
   "mimetype": "text/x-r-source",
   "name": "R",
   "pygments_lexer": "r",
   "version": "4.2.0"
  }
 },
 "nbformat": 4,
 "nbformat_minor": 5
}
