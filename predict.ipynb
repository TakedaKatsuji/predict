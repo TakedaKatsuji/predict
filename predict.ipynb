{
 "cells": [
  {
   "cell_type": "code",
   "execution_count": 1,
   "metadata": {},
   "outputs": [],
   "source": [
    "import numpy as np\n",
    "import pandas as pd"
   ]
  },
  {
   "cell_type": "markdown",
   "metadata": {},
   "source": [
    "# input data"
   ]
  },
  {
   "cell_type": "code",
   "execution_count": 36,
   "metadata": {},
   "outputs": [],
   "source": [
    "age_start  = 50\n",
    "screen = 0     # Clinically detected = 0, screen detected = 1 (webのsymptoms -> 0)\n",
    "size = 50    # Tumour size mm\n",
    "grade= 3     # Tumour grade\n",
    "nodes = 5     # Number positive nodes\n",
    "er = 1     # ER+ = 1, ER- = 0\n",
    "her2 = 1     # HER2+ = 1, HER2- = 0, missing = 9\n",
    "ki67 = 1     # KI67+ = 1, KI67- = 0, missing = 9\n",
    "generation = 3     # Chemo generation 0, 2 or 3 only\n",
    "horm = 1     # Hormone therapy Yes = 1, no = 0\n",
    "traz = 1     # Trastuzumab therapy Yes = 1, no = 0\n",
    "bis = 1     # Bisphosphonate therapy Yes = 1, no = 0\n",
    "radio = 0     # Radiotherapy Yes = 1, no = 0\n",
    "r_enabled  =  0     # Radiotherapy enabled = 1, disabled = 0"
   ]
  },
  {
   "cell_type": "code",
   "execution_count": 37,
   "metadata": {},
   "outputs": [
    {
     "data": {
      "text/plain": [
       "(0, 3)"
      ]
     },
     "execution_count": 37,
     "metadata": {},
     "output_type": "execute_result"
    }
   ],
   "source": [
    "#screen gradeの調整\n",
    "screen =  0.204 if screen == 2 else screen\n",
    "grade = 2.13 if grade == 9 else grade\n",
    "max_time = 15\n",
    "time = np.array(range(1,max_time+1))\n",
    "\n",
    "screen,grade\n"
   ]
  },
  {
   "cell_type": "markdown",
   "metadata": {},
   "source": [
    "# 層別化"
   ]
  },
  {
   "cell_type": "markdown",
   "metadata": {},
   "source": [
    "$$ \n",
    "\\begin{align}\n",
    "    ER+ : \\ H_c(t)  &= exp\\big(0.7424402 - \\frac{7.527762}{\\sqrt{t}} - 1.812513 \\times \\frac{log(t)}{\\sqrt{t}}\\big) \\\\\\\\\n",
    "    ER- : \\ H_c(t)  &= exp\\big(-1.156036 + \\frac{0.4707332}{t^2} - \\frac{3.51355}{t}\\big)\n",
    "\\end{align}\n",
    "$$"
   ]
  },
  {
   "cell_type": "code",
   "execution_count": 38,
   "metadata": {},
   "outputs": [],
   "source": [
    "her2_beta = 0.2413 if her2 == 1 else -0.0762 if her2 == 0 else 0\n",
    "\n",
    "\n",
    "if er == 1:\n",
    "    grade_val = grade\n",
    "    age_mfp_1 = (age_start/10)**-2-0.0287449295\n",
    "    age_beta_1 = 34.53642\n",
    "    age_mfp_2 = (age_start/10)**-2*np.log(age_start/10)-0.0510121013\n",
    "    age_beta_2 = -34.20342\n",
    "    size_mfp = np.log(size/100)+1.545233938\n",
    "    size_beta = 0.7530729\n",
    "    nodes_mfp = np.log((nodes+1)/10)+1.387566896\n",
    "    nodes_beta = 0.7060723\n",
    "    grade_beta = 0.746655\n",
    "    screen_beta = -0.22763366\n",
    "    ki67_beta = 0.14904 if ki67 == 1 else -0.11333 if ki67 == 0 else 0\n",
    "    \n",
    "else:\n",
    "    grade_val =  1 if grade == 2 or grade ==3 else 0\n",
    "    age_mfp_1 = age_start-56.3254902\n",
    "    age_beta_1 = 0.0089827\n",
    "    age_mfp_2 = 0\n",
    "    age_beta_2 = 0\n",
    "    size_mfp = (size/100)**0.5-0.5090456276\n",
    "    size_beta = 2.093446\n",
    "    nodes_mfp = np.log((nodes+1)/10)+1.086916249\n",
    "    nodes_beta = 0.6260541\n",
    "    grade_beta = 1.129091\n",
    "    screen_beta = 0\n",
    "    ki67_beta = 0\n",
    "    \n",
    "    "
   ]
  },
  {
   "cell_type": "code",
   "execution_count": 39,
   "metadata": {},
   "outputs": [],
   "source": [
    "r_prop = 0.69\n",
    "r_breast = 0.82\n",
    "r_other = 1.07\n",
    "if r_enabled == 1:\n",
    "    r_base_br = np.log(1/((1-r_prop) + r_prop*r_breast))\n",
    "    r_base_oth = np.log(1/((1-r_prop) + r_prop*r_other))\n",
    "else:\n",
    "    r_base_br = 0\n",
    "    r_base_oth = 0"
   ]
  },
  {
   "cell_type": "code",
   "execution_count": 40,
   "metadata": {},
   "outputs": [],
   "source": [
    "# Other mortality prognostic index (mi)\n",
    "mi = 0.0698252*((age_start/10)**2-34.23391957) + r_base_oth\n",
    "\n",
    "# Breast cancer mortality prognostic index (pi)\n",
    "pi = age_beta_1*age_mfp_1 + age_beta_2*age_mfp_2 + size_beta*size_mfp + \\\n",
    "  nodes_beta*nodes_mfp + grade_beta*grade_val + screen_beta*screen + \\\n",
    "  her2_beta + ki67_beta + r_base_br"
   ]
  },
  {
   "cell_type": "code",
   "execution_count": 50,
   "metadata": {},
   "outputs": [],
   "source": [
    "c = 0 if generation == 0 else -0.248 if generation == 2 else -0.446\n",
    "h = -0.3857 if horm and er == 1 else 0\n",
    "h10 = [h for i in range(10)] + [h-0.26 for i in range(len(time)-10)]\n",
    "t = -0.3567 if her2 == 1 and traz == 1 else 0\n",
    "b = -0.198 if bis == 1 else 0"
   ]
  },
  {
   "cell_type": "code",
   "execution_count": 52,
   "metadata": {},
   "outputs": [],
   "source": [
    "if r_enabled == 1:\n",
    "    r_br = np.log(r_breast) if radio == 1 else 0\n",
    "    r_oth = np.log(r_other) if radio == 1 else 0\n",
    "else:\n",
    "    r_br = 0\n",
    "    r_oth = 0"
   ]
  },
  {
   "cell_type": "code",
   "execution_count": 60,
   "metadata": {},
   "outputs": [
    {
     "data": {
      "text/plain": [
       "(-0.3857, -0.446, -0.198, 0, -0.3567)"
      ]
     },
     "execution_count": 60,
     "metadata": {},
     "output_type": "execute_result"
    }
   ],
   "source": [
    "h,c,b,r_br,t"
   ]
  },
  {
   "cell_type": "code",
   "execution_count": null,
   "metadata": {},
   "outputs": [],
   "source": [
    "class Patient(input_data,event):\n",
    "    def __init__(self,input_data, event):\n",
    "        self.age =  input_data[\"age\"]\n",
    "        if generation == 2:\n",
    "            c = -0.248\n",
    "        else:\n",
    "            c = generation * -0.446\n",
    "        \n",
    "    def predict(self, h10=False):\n",
    "        self.__print_status()\n",
    "        \n",
    "        if self.er == 0:\n",
    "            \n",
    "            self.__predict_wo_er()\n",
    "        else:\n",
    "            self.__predict_w_er()\n",
    "            pass\n",
    "    \n",
    "    def __predict_wo_er(self):\n",
    "    \n",
    "    def __predict_w_er(self):\n",
    "        \n",
    "    def __print_status(self):"
   ]
  },
  {
   "cell_type": "code",
   "execution_count": null,
   "metadata": {},
   "outputs": [],
   "source": []
  },
  {
   "cell_type": "code",
   "execution_count": null,
   "metadata": {},
   "outputs": [],
   "source": []
  }
 ],
 "metadata": {
  "kernelspec": {
   "display_name": "predict",
   "language": "python",
   "name": "python3"
  },
  "language_info": {
   "codemirror_mode": {
    "name": "ipython",
    "version": 3
   },
   "file_extension": ".py",
   "mimetype": "text/x-python",
   "name": "python",
   "nbconvert_exporter": "python",
   "pygments_lexer": "ipython3",
   "version": "3.9.16"
  },
  "orig_nbformat": 4
 },
 "nbformat": 4,
 "nbformat_minor": 2
}
