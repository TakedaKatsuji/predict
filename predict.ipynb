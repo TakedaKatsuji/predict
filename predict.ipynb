{
 "cells": [
  {
   "cell_type": "code",
   "execution_count": 360,
   "metadata": {},
   "outputs": [],
   "source": [
    "import numpy as np\n",
    "import pandas as pd\n",
    "from pprint import pprint\n",
    "import itertools\n",
    "import operator\n",
    "%matplotlib inline\n",
    "import matplotlib.pyplot as plt"
   ]
  },
  {
   "cell_type": "markdown",
   "metadata": {},
   "source": [
    "# input data"
   ]
  },
  {
   "cell_type": "code",
   "execution_count": 383,
   "metadata": {},
   "outputs": [],
   "source": [
    "age_start  = 24\n",
    "detection = 1     # Clinically detected = 0, screen detected = 1 (webのsymptoms -> 0) unknown = 9\n",
    "size = 10    # Tumour size mm\n",
    "grade= 3     # Tumour grade unknown = 9\n",
    "nodes = 5     # Number positive nodes\n",
    "er = 1     # ER+ = 1, ER- = 0\n",
    "her2 = 0     # HER2+ = 1, HER2- = 0, missing = 9\n",
    "ki67 = 1     # KI67+ = 1, KI67- = 0, missing = 9\n",
    "chemo_gen = 3     # Chemo generation 0, 2 or 3 only\n",
    "horm = 1     # Hormone therapy Yes = 1, no = 0\n",
    "traz = 0     # Trastuzumab therapy Yes = 1, no = 0\n",
    "bis = 1    # Bisphosphonate therapy Yes = 1, no = 0"
   ]
  },
  {
   "cell_type": "code",
   "execution_count": 384,
   "metadata": {},
   "outputs": [],
   "source": [
    "#screen gradeの調整\n",
    "#screen =  0.204 if screen == 2 else screen\n",
    "#grade = 2.13 if grade == 9 else grade\n",
    "max_time = 15\n",
    "time = np.array(range(1,max_time+1))\n",
    "grade_val = 2.13 if grade == 2 else grade\n"
   ]
  },
  {
   "cell_type": "markdown",
   "metadata": {},
   "source": [
    "# 層別化"
   ]
  },
  {
   "attachments": {},
   "cell_type": "markdown",
   "metadata": {},
   "source": [
    "$$ \n",
    "\\begin{align}\n",
    "    ER+ : \\ H_c(t)  &= exp\\big(0.7424402 - \\frac{7.527762}{\\sqrt{t}} - 1.812513 \\times \\frac{log(t)}{\\sqrt{t}}\\big) \\\\\n",
    "    ER- : \\ H_c(t)  &= exp\\big(-1.156036 + \\frac{0.4707332}{t^2} - \\frac{3.51355}{t}\\big)\n",
    "\\end{align}\n",
    "$$"
   ]
  },
  {
   "cell_type": "code",
   "execution_count": 385,
   "metadata": {},
   "outputs": [
    {
     "data": {
      "text/plain": [
       "3.6832056161439497"
      ]
     },
     "execution_count": 385,
     "metadata": {},
     "output_type": "execute_result"
    }
   ],
   "source": [
    "if er == 1:\n",
    "    # data_point\n",
    "    age_mfp_1 = (age_start/10)**-2-0.0287449295 \n",
    "    age_mfp_2 = (age_start/10)**-2*np.log(age_start/10)-0.0510121013 \n",
    "    size_mfp = np.log(size/100)+1.545233938 \n",
    "    nodes_mfp = np.log((nodes+1)/10)+1.387566896 \n",
    "    grade_mfp =  grade\n",
    "    detection_mfp = 0.204 if detection == 9 else detection\n",
    "    her2_mfp = 1\n",
    "    ki67_mfp = 1\n",
    "    \n",
    "    # weight\n",
    "    age_beta_1 = 34.53642 \n",
    "    age_beta_2 = -34.20342  \n",
    "    size_beta = 0.7530729 \n",
    "    nodes_beta = 0.7060723 \n",
    "    grade_beta = 0.746655 \n",
    "    detection_beta = -0.22763366\n",
    "    her2_beta = 0.2413 if her2 == 1 else -0.0762 if her2 == 0 else 0\n",
    "    ki67_beta = 0.14904 if ki67 == 1 else -0.11333 if ki67 == 0 else 0\n",
    "    \n",
    "    \n",
    "else:\n",
    "    # data_point\n",
    "    age_mfp_1 = age_start-56.3254902 \n",
    "    age_mfp_2 = 0  \n",
    "    size_mfp = (size/100)**0.5-0.5090456276  \n",
    "    nodes_mfp = np.log((nodes+1)/10)+1.086916249   \n",
    "    grade_mfp = 1 if grade == 2 or grade == 3 else 0\n",
    "    detection_mfp = 0\n",
    "    her2_mfp = 1\n",
    "    ki67_mfp = 1\n",
    "    \n",
    "    # weight\n",
    "    age_beta_1 = 0.0089827\n",
    "    age_beta_2 = 0\n",
    "    size_beta = 2.093446\n",
    "    nodes_beta = 0.6260541\n",
    "    grade_beta = 1.129091 \n",
    "    detection_beta = 0\n",
    "    her2_beta = 0.2413 if her2 == 1 else -0.0762 if her2 == 0 else 0\n",
    "    ki67_beta = 0\n",
    "    \n",
    "x_1 = np.array([age_mfp_1,age_mfp_2,detection_mfp,size_mfp,grade_mfp,nodes_mfp,her2_mfp,ki67_mfp])\n",
    "w_1 = np.array([age_beta_1,age_beta_2,detection_beta,size_beta,grade_beta,nodes_beta,her2_beta,ki67_beta])\n",
    "pi = np.dot(w_1,x_1)\n",
    "pi"
   ]
  },
  {
   "cell_type": "code",
   "execution_count": 386,
   "metadata": {},
   "outputs": [
    {
     "name": "stdout",
     "output_type": "stream",
     "text": [
      "-1.0297\n",
      "c3h1t0b1\n"
     ]
    }
   ],
   "source": [
    "c_mfp = 1 \n",
    "h_mfp = 1 \n",
    "# h10_mfp = 1\n",
    "t_mfp = 1\n",
    "b_mfp = 1\n",
    "\n",
    "c_beta = 0 if chemo_gen == 0 else -0.248 if chemo_gen == 2 else -0.446\n",
    "h_beta = -0.3857 if horm == 1 and er == 1 else 0\n",
    "# h10_beta = [horm for i in range(10)] + [horm-0.26 for i in range(len(time)-10)]\n",
    "t_beta = -0.3567 if her2 == 1 and traz == 1 else 0\n",
    "b_beta = -0.198 if bis == 1 else 0\n",
    "\n",
    "x_2 = np.array([c_mfp,h_mfp,t_mfp,b_mfp])\n",
    "w_2 = np.array([c_beta,h_beta,t_beta,b_beta])\n",
    "rx = np.dot(w_2,x_2)\n",
    "print(rx)\n",
    "print(f\"c{chemo_gen}h{horm}t{traz}b{bis}\")"
   ]
  },
  {
   "cell_type": "code",
   "execution_count": 387,
   "metadata": {},
   "outputs": [],
   "source": [
    "# Other mortality prognostic index (mi)\n",
    "mi = 0.0698252*((age_start/10)**2-34.23391957)\n"
   ]
  },
  {
   "cell_type": "code",
   "execution_count": 388,
   "metadata": {},
   "outputs": [],
   "source": [
    "input_data = pd.read_csv(\"./input_data.csv\")\n",
    "patient1 = input_data.query(\" pID == 1\")\n",
    "event = 10"
   ]
  },
  {
   "cell_type": "code",
   "execution_count": 396,
   "metadata": {},
   "outputs": [],
   "source": [
    "class Patient:\n",
    "    \"\"\"Patient class\n",
    "\n",
    "    Patientごとの生存時間解析を行うクラス\n",
    "    \n",
    "    Attributes:\n",
    "        # 患者の情報\n",
    "        age (int): 患者の年齢\n",
    "        detection (int): 発見契機 symptoms detected = 0, screen detected = 1, unknown = 2\n",
    "        size (float): Tumour size (mm)\n",
    "        grade (int) : Tumour grade 1, 2 or 3 only\n",
    "        nodes (int) : がんが転移したリンパ節の数\n",
    "        er (int) : ER+ = 1, ER- = 0\n",
    "        her2 (int) : her2+ = 1, her2- = 0 missing = 2\n",
    "        ki67 (int) : ki67+ = 1, ki67- = 0 missing = 2\n",
    "        event (int) : event発生の有無 0, 1\n",
    "        duration (int) : event発生時間\n",
    "        \n",
    "        # Tretment Options\n",
    "        chemo_gen (int) : Chemo generation 0, 2 or 3 only \n",
    "        horm (int) :  Hormone therapy Yes = 1, no = 0\n",
    "        traz (int) : Trastuzumab therapy Yes = 1, no = 0\n",
    "        bis (int) : Bisphosphonate therapy Yes = 1, no = 0\n",
    "        treatment_options (str) : 患者が行っている治療法の結合 -> \"c0:h1:t0:b1\"\n",
    "        \n",
    "        # other\n",
    "        max_time (int) : 打ち切りまでの時間（年）\n",
    "        time \n",
    "    \n",
    "    TODO:\n",
    "    - 分岐(modelの種類)が何個あるか\n",
    "    - \n",
    "        \n",
    "    \"\"\"\n",
    "    def __init__(self,patient_data):\n",
    "        # 患者の情報\n",
    "        self.patient_data = patient_data\n",
    "        self.age =  patient_data[\"age\"][0]\n",
    "        \n",
    "        self.detection = patient_data['detection'][0]\n",
    "        self.detection =  0.204 if self.detection == 2 else self.detection\n",
    "        \n",
    "        self.size = patient_data['tumour_size'][0]\n",
    "        \n",
    "        self.grade = patient_data['tumour_grade'][0]\n",
    "        self.grade = 2.13 if self.grade == 9 else self.grade\n",
    "        \n",
    "        self.nodes = patient_data['nodes'][0]\n",
    "        self.er = patient_data['er'][0]\n",
    "        self.her2 = patient_data['her2'][0]\n",
    "        self.ki67 = patient_data['ki67'][0]\n",
    "        \n",
    "        # Tretment Options\n",
    "        self.chemo_gen = patient_data['chemotherapy'][0]\n",
    "        self.horm = patient_data['hormonetherapy'][0]\n",
    "        self.traz = patient_data['trastuzumab'][0]\n",
    "        self.bis = patient_data['bisphosphonates'][0]\n",
    "        self.event = patient_data['event'][0]\n",
    "        self.duration = patient_data['duration'][0]\n",
    "        self.treatment_options = f\"c{self.chemo_gen}:h{self.horm}:t{self.traz}:b{self.bis}\"\n",
    "        \n",
    "        # other\n",
    "        self.max_time = 15\n",
    "        self.time = np.array(range(1,self.max_time+1))\n",
    "        self._set_model()\n",
    "\n",
    "        \n",
    "    def get_patient_data(self):\n",
    "        \"\"\"患者の入力情報を辞書式で返すメソッド\n",
    "\n",
    "        Returns:\n",
    "            dict: 患者の情報\n",
    "        \"\"\"\n",
    "        columns = list(self.patient_data.columns)\n",
    "        data = self.patient_data.values[0]\n",
    "        param_dict = {col:datum for col, datum in zip(columns, data)}\n",
    "        self.params = param_dict\n",
    "        return param_dict\n",
    "    \n",
    "    def print_patient_data(self):\n",
    "        pprint(self.get_patient_data())\n",
    "    \n",
    "    def _set_model(self):\n",
    "        \"\"\"患者の情報からモデルの重みを決定するメソッド\n",
    "\n",
    "        Returns:\n",
    "            np.array:重みの情報\n",
    "        \"\"\"\n",
    "        if self.er == 1:\n",
    "            # data_point\n",
    "            age_mfp_1 = (self.age/10)**-2-0.0287449295 \n",
    "            age_mfp_2 = (self.age/10)**-2*np.log(self.age/10)-0.0510121013 \n",
    "            size_mfp = np.log(self.size/100)+1.545233938 \n",
    "            nodes_mfp = np.log((self.nodes+1)/10)+1.387566896 \n",
    "            grade_mfp =  self.grade\n",
    "            detection_mfp = 0.204 if self.detection == 9 else self.detection\n",
    "            her2_mfp = 1\n",
    "            ki67_mfp = 1\n",
    "            \n",
    "            # weight\n",
    "            age_beta_1 = 34.53642 \n",
    "            age_beta_2 = -34.20342  \n",
    "            size_beta = 0.7530729 \n",
    "            nodes_beta = 0.7060723 \n",
    "            grade_beta = 0.746655 \n",
    "            detection_beta = -0.22763366\n",
    "            her2_beta = 0.2413 if self.her2 == 1 else -0.0762 if self.her2 == 0 else 0\n",
    "            ki67_beta = 0.14904 if self.ki67 == 1 else -0.11333 if self.ki67 == 0 else 0\n",
    "            \n",
    "            \n",
    "        else:\n",
    "            # data_point\n",
    "            age_mfp_1 = self.age-56.3254902 \n",
    "            age_mfp_2 = 0  \n",
    "            size_mfp = (self.size/100)**0.5-0.5090456276  \n",
    "            nodes_mfp = np.log((self.nodes+1)/10)+1.086916249   \n",
    "            grade_mfp = 1 if self.grade == 2 or self.grade == 3 else 0\n",
    "            detection_mfp = 0\n",
    "            her2_mfp = 1\n",
    "            ki67_mfp = 1\n",
    "            \n",
    "            # weight\n",
    "            age_beta_1 = 0.0089827\n",
    "            age_beta_2 = 0\n",
    "            size_beta = 2.093446\n",
    "            nodes_beta = 0.6260541\n",
    "            grade_beta = 1.129091 \n",
    "            detection_beta = 0\n",
    "            her2_beta = 0.2413 if self.her2 == 1 else -0.0762 if self.her2 == 0 else 0\n",
    "            ki67_beta = 0\n",
    "            \n",
    "        x_1 = np.array([age_mfp_1,age_mfp_2,detection_mfp,size_mfp,grade_mfp,nodes_mfp,her2_mfp,ki67_mfp])\n",
    "        w_1 = np.array([age_beta_1,age_beta_2,detection_beta,size_beta,grade_beta,nodes_beta,her2_beta,ki67_beta])\n",
    "        pi = np.dot(w_1,x_1)\n",
    " \n",
    "        c_mfp = 1 \n",
    "        h_mfp = 1 \n",
    "        # h10_mfp = 1\n",
    "        t_mfp = 1\n",
    "        b_mfp = 1\n",
    "\n",
    "        c_beta = 0 if chemo_gen == 0 else -0.248 if chemo_gen == 2 else -0.446\n",
    "        h_beta = -0.3857 if horm == 1 and er == 1 else 0\n",
    "        # h10_beta = [horm for i in range(10)] + [horm-0.26 for i in range(len(time)-10)]\n",
    "        t_beta = -0.3567 if her2 == 1 and traz == 1 else 0\n",
    "        b_beta = -0.198 if bis == 1 else 0\n",
    "\n",
    "        x_2 = np.array([c_mfp,h_mfp,t_mfp,b_mfp])\n",
    "        w_2 = np.array([c_beta,h_beta,t_beta,b_beta])\n",
    "        rx = np.dot(w_2,x_2)\n",
    "        \n",
    "        self.coef_ = {\"w_1\": w_1, \"x_1\": x_1, \"w_2\": w_2, \"x_2\": x_2}\n",
    "        self.base = \"ER+\" if self.er == 1 else \"ER-\"\n",
    "        self.pi = pi\n",
    "        self.rx = rx\n",
    "        self.polynomial = pi + rx\n",
    "    \n",
    "    def _other_causes_model(self):\n",
    "        \"\"\"癌が原因でない時のモデル\n",
    "        \n",
    "        \"\"\"\n",
    "        # Other mortality prognostic index (mi)\n",
    "        mi = 0.0698252*((self.age/10)**2-34.23391957)\n",
    "        \n",
    "        # Generate cumulative baseline other mortality\n",
    "        base_m_cum_oth = np.exp(-6.052919 + (1.079863*np.log(self.time)) + (0.3255321*self.time**0.5))\n",
    "        \n",
    "        # Generate cumulative survival non-breast mortality\n",
    "        s_cum_oth = np.exp(-np.exp(mi)*base_m_cum_oth)\n",
    "        \n",
    "        # Convert cumulative mortality rate into cumulative risk\n",
    "        m_cum_oth = 1- s_cum_oth\n",
    "        \n",
    "        # Annual other mortality rate\n",
    "        m_oth = np.array([i for i in m_cum_oth])\n",
    "\n",
    "        for i in range(1,15):\n",
    "            m_oth[i] = m_cum_oth[i] - m_cum_oth[i-1]\n",
    "          \n",
    "    \n",
    "    def _set_baseline_with_cancer(self):\n",
    "        \"\"\"癌が原因のモデルのベースラインをセットするメソッド\n",
    "        \n",
    "        \"\"\"\n",
    "        # Generate cumulative baseline breast mortality\n",
    "        if self.base == \"ER+\":\n",
    "            base_m_cum_br = np.exp(0.7424402 - 7.527762/self.time**0.5 - 1.812513*np.log(self.time)/self.time**0.5)\n",
    "        else:\n",
    "            base_m_cum_br = np.exp(-1.156036 + 0.4707332/self.time**2 - 3.51355/self.time)\n",
    "            \n",
    "        # Annual cancer mortality rate\n",
    "        base_m_br = np.array([i for i in base_m_cum_br])\n",
    "\n",
    "        for i in range(1,15):\n",
    "            base_m_br[i] = base_m_cum_br[i] - base_m_cum_br[i-1]\n",
    "        \n",
    "        print(\"base\",base_m_cum_br)\n",
    "        # Generate the annual breast cancer specific mortality rate\n",
    "        m_br = base_m_br * np.exp(self.polynomial)\n",
    "        \n",
    "        #累積和\n",
    "        m_cum_br = np.array(list(itertools.accumulate(m_br)))\n",
    "        \n",
    "        return m_br\n",
    "\n",
    "    def predict_cumulative_hazard_function(self):\n",
    "        pass\n",
    "    \n",
    "    def predict_survival_function(self):\n",
    "        \n",
    "        \n",
    "        pass\n",
    "    \n",
    "    def score(self):\n",
    "        pass\n",
    "    \n",
    "    def get_params(self):\n",
    "        pass"
   ]
  },
  {
   "cell_type": "code",
   "execution_count": 401,
   "metadata": {},
   "outputs": [
    {
     "data": {
      "text/plain": [
       "-1.0297"
      ]
     },
     "execution_count": 401,
     "metadata": {},
     "output_type": "execute_result"
    }
   ],
   "source": [
    "patient = Patient(patient1)\n",
    "patient.rx"
   ]
  },
  {
   "cell_type": "code",
   "execution_count": 374,
   "metadata": {},
   "outputs": [],
   "source": [
    "cum_arr = np.array(list(itertools.accumulate(arr)))"
   ]
  },
  {
   "cell_type": "code",
   "execution_count": 375,
   "metadata": {},
   "outputs": [
    {
     "data": {
      "text/plain": [
       "<matplotlib.collections.PathCollection at 0x7f33c9b0b1c0>"
      ]
     },
     "execution_count": 375,
     "metadata": {},
     "output_type": "execute_result"
    },
    {
     "data": {
      "image/png": "[encoded data removed]",
      "text/plain": [
       "<Figure size 640x480 with 1 Axes>"
      ]
     },
     "metadata": {},
     "output_type": "display_data"
    }
   ],
   "source": [
    "plt.scatter(x=list(range(1,16)), y=arr)\n",
    "plt.scatter(x=list(range(1,16)), y=cum_arr)"
   ]
  },
  {
   "cell_type": "code",
   "execution_count": 372,
   "metadata": {},
   "outputs": [
    {
     "data": {
      "text/plain": [
       "array([0.00375644, 0.01025587, 0.0146456 , 0.01745135, 0.01926552,\n",
       "       0.02044204, 0.02119405, 0.02165504, 0.02191184, 0.02202279,\n",
       "       0.02202818, 0.02195645, 0.02182811, 0.02165814, 0.02145767])"
      ]
     },
     "execution_count": 372,
     "metadata": {},
     "output_type": "execute_result"
    }
   ],
   "source": [
    "arr"
   ]
  },
  {
   "cell_type": "code",
   "execution_count": null,
   "metadata": {},
   "outputs": [],
   "source": []
  },
  {
   "cell_type": "code",
   "execution_count": null,
   "metadata": {},
   "outputs": [],
   "source": []
  },
  {
   "cell_type": "code",
   "execution_count": 120,
   "metadata": {},
   "outputs": [],
   "source": [
    "from sksurv.linear_model import CoxPHSurvivalAnalysis\n",
    "from lifelines.datasets import load_rossi\n",
    "rossi = load_rossi()"
   ]
  },
  {
   "cell_type": "code",
   "execution_count": 121,
   "metadata": {},
   "outputs": [
    {
     "data": {
      "text/html": [
       "<div>\n",
       "<style scoped>\n",
       "    .dataframe tbody tr th:only-of-type {\n",
       "        vertical-align: middle;\n",
       "    }\n",
       "\n",
       "    .dataframe tbody tr th {\n",
       "        vertical-align: top;\n",
       "    }\n",
       "\n",
       "    .dataframe thead th {\n",
       "        text-align: right;\n",
       "    }\n",
       "</style>\n",
       "<table border=\"1\" class=\"dataframe\">\n",
       "  <thead>\n",
       "    <tr style=\"text-align: right;\">\n",
       "      <th></th>\n",
       "      <th>week</th>\n",
       "      <th>arrest</th>\n",
       "      <th>fin</th>\n",
       "      <th>age</th>\n",
       "      <th>race</th>\n",
       "      <th>wexp</th>\n",
       "      <th>mar</th>\n",
       "      <th>paro</th>\n",
       "      <th>prio</th>\n",
       "    </tr>\n",
       "  </thead>\n",
       "  <tbody>\n",
       "    <tr>\n",
       "      <th>0</th>\n",
       "      <td>20</td>\n",
       "      <td>1</td>\n",
       "      <td>0</td>\n",
       "      <td>27</td>\n",
       "      <td>1</td>\n",
       "      <td>0</td>\n",
       "      <td>0</td>\n",
       "      <td>1</td>\n",
       "      <td>3</td>\n",
       "    </tr>\n",
       "    <tr>\n",
       "      <th>1</th>\n",
       "      <td>17</td>\n",
       "      <td>1</td>\n",
       "      <td>0</td>\n",
       "      <td>18</td>\n",
       "      <td>1</td>\n",
       "      <td>0</td>\n",
       "      <td>0</td>\n",
       "      <td>1</td>\n",
       "      <td>8</td>\n",
       "    </tr>\n",
       "    <tr>\n",
       "      <th>2</th>\n",
       "      <td>25</td>\n",
       "      <td>1</td>\n",
       "      <td>0</td>\n",
       "      <td>19</td>\n",
       "      <td>0</td>\n",
       "      <td>1</td>\n",
       "      <td>0</td>\n",
       "      <td>1</td>\n",
       "      <td>13</td>\n",
       "    </tr>\n",
       "    <tr>\n",
       "      <th>3</th>\n",
       "      <td>52</td>\n",
       "      <td>0</td>\n",
       "      <td>1</td>\n",
       "      <td>23</td>\n",
       "      <td>1</td>\n",
       "      <td>1</td>\n",
       "      <td>1</td>\n",
       "      <td>1</td>\n",
       "      <td>1</td>\n",
       "    </tr>\n",
       "    <tr>\n",
       "      <th>4</th>\n",
       "      <td>52</td>\n",
       "      <td>0</td>\n",
       "      <td>0</td>\n",
       "      <td>19</td>\n",
       "      <td>0</td>\n",
       "      <td>1</td>\n",
       "      <td>0</td>\n",
       "      <td>1</td>\n",
       "      <td>3</td>\n",
       "    </tr>\n",
       "    <tr>\n",
       "      <th>...</th>\n",
       "      <td>...</td>\n",
       "      <td>...</td>\n",
       "      <td>...</td>\n",
       "      <td>...</td>\n",
       "      <td>...</td>\n",
       "      <td>...</td>\n",
       "      <td>...</td>\n",
       "      <td>...</td>\n",
       "      <td>...</td>\n",
       "    </tr>\n",
       "    <tr>\n",
       "      <th>427</th>\n",
       "      <td>52</td>\n",
       "      <td>0</td>\n",
       "      <td>1</td>\n",
       "      <td>31</td>\n",
       "      <td>0</td>\n",
       "      <td>1</td>\n",
       "      <td>0</td>\n",
       "      <td>1</td>\n",
       "      <td>3</td>\n",
       "    </tr>\n",
       "    <tr>\n",
       "      <th>428</th>\n",
       "      <td>52</td>\n",
       "      <td>0</td>\n",
       "      <td>0</td>\n",
       "      <td>20</td>\n",
       "      <td>1</td>\n",
       "      <td>0</td>\n",
       "      <td>0</td>\n",
       "      <td>1</td>\n",
       "      <td>1</td>\n",
       "    </tr>\n",
       "    <tr>\n",
       "      <th>429</th>\n",
       "      <td>52</td>\n",
       "      <td>0</td>\n",
       "      <td>1</td>\n",
       "      <td>20</td>\n",
       "      <td>1</td>\n",
       "      <td>1</td>\n",
       "      <td>1</td>\n",
       "      <td>1</td>\n",
       "      <td>1</td>\n",
       "    </tr>\n",
       "    <tr>\n",
       "      <th>430</th>\n",
       "      <td>52</td>\n",
       "      <td>0</td>\n",
       "      <td>0</td>\n",
       "      <td>29</td>\n",
       "      <td>1</td>\n",
       "      <td>1</td>\n",
       "      <td>0</td>\n",
       "      <td>1</td>\n",
       "      <td>3</td>\n",
       "    </tr>\n",
       "    <tr>\n",
       "      <th>431</th>\n",
       "      <td>52</td>\n",
       "      <td>0</td>\n",
       "      <td>1</td>\n",
       "      <td>24</td>\n",
       "      <td>1</td>\n",
       "      <td>1</td>\n",
       "      <td>0</td>\n",
       "      <td>1</td>\n",
       "      <td>1</td>\n",
       "    </tr>\n",
       "  </tbody>\n",
       "</table>\n",
       "<p>432 rows × 9 columns</p>\n",
       "</div>"
      ],
      "text/plain": [
       "     week  arrest  fin  age  race  wexp  mar  paro  prio\n",
       "0      20       1    0   27     1     0    0     1     3\n",
       "1      17       1    0   18     1     0    0     1     8\n",
       "2      25       1    0   19     0     1    0     1    13\n",
       "3      52       0    1   23     1     1    1     1     1\n",
       "4      52       0    0   19     0     1    0     1     3\n",
       "..    ...     ...  ...  ...   ...   ...  ...   ...   ...\n",
       "427    52       0    1   31     0     1    0     1     3\n",
       "428    52       0    0   20     1     0    0     1     1\n",
       "429    52       0    1   20     1     1    1     1     1\n",
       "430    52       0    0   29     1     1    0     1     3\n",
       "431    52       0    1   24     1     1    0     1     1\n",
       "\n",
       "[432 rows x 9 columns]"
      ]
     },
     "execution_count": 121,
     "metadata": {},
     "output_type": "execute_result"
    }
   ],
   "source": [
    "rossi"
   ]
  },
  {
   "cell_type": "code",
   "execution_count": 129,
   "metadata": {},
   "outputs": [
    {
     "data": {
      "text/html": [
       "<style>#sk-container-id-2 {color: black;background-color: white;}#sk-container-id-2 pre{padding: 0;}#sk-container-id-2 div.sk-toggleable {background-color: white;}#sk-container-id-2 label.sk-toggleable__label {cursor: pointer;display: block;width: 100%;margin-bottom: 0;padding: 0.3em;box-sizing: border-box;text-align: center;}#sk-container-id-2 label.sk-toggleable__label-arrow:before {content: \"▸\";float: left;margin-right: 0.25em;color: #696969;}#sk-container-id-2 label.sk-toggleable__label-arrow:hover:before {color: black;}#sk-container-id-2 div.sk-estimator:hover label.sk-toggleable__label-arrow:before {color: black;}#sk-container-id-2 div.sk-toggleable__content {max-height: 0;max-width: 0;overflow: hidden;text-align: left;background-color: #f0f8ff;}#sk-container-id-2 div.sk-toggleable__content pre {margin: 0.2em;color: black;border-radius: 0.25em;background-color: #f0f8ff;}#sk-container-id-2 input.sk-toggleable__control:checked~div.sk-toggleable__content {max-height: 200px;max-width: 100%;overflow: auto;}#sk-container-id-2 input.sk-toggleable__control:checked~label.sk-toggleable__label-arrow:before {content: \"▾\";}#sk-container-id-2 div.sk-estimator input.sk-toggleable__control:checked~label.sk-toggleable__label {background-color: #d4ebff;}#sk-container-id-2 div.sk-label input.sk-toggleable__control:checked~label.sk-toggleable__label {background-color: #d4ebff;}#sk-container-id-2 input.sk-hidden--visually {border: 0;clip: rect(1px 1px 1px 1px);clip: rect(1px, 1px, 1px, 1px);height: 1px;margin: -1px;overflow: hidden;padding: 0;position: absolute;width: 1px;}#sk-container-id-2 div.sk-estimator {font-family: monospace;background-color: #f0f8ff;border: 1px dotted black;border-radius: 0.25em;box-sizing: border-box;margin-bottom: 0.5em;}#sk-container-id-2 div.sk-estimator:hover {background-color: #d4ebff;}#sk-container-id-2 div.sk-parallel-item::after {content: \"\";width: 100%;border-bottom: 1px solid gray;flex-grow: 1;}#sk-container-id-2 div.sk-label:hover label.sk-toggleable__label {background-color: #d4ebff;}#sk-container-id-2 div.sk-serial::before {content: \"\";position: absolute;border-left: 1px solid gray;box-sizing: border-box;top: 0;bottom: 0;left: 50%;z-index: 0;}#sk-container-id-2 div.sk-serial {display: flex;flex-direction: column;align-items: center;background-color: white;padding-right: 0.2em;padding-left: 0.2em;position: relative;}#sk-container-id-2 div.sk-item {position: relative;z-index: 1;}#sk-container-id-2 div.sk-parallel {display: flex;align-items: stretch;justify-content: center;background-color: white;position: relative;}#sk-container-id-2 div.sk-item::before, #sk-container-id-2 div.sk-parallel-item::before {content: \"\";position: absolute;border-left: 1px solid gray;box-sizing: border-box;top: 0;bottom: 0;left: 50%;z-index: -1;}#sk-container-id-2 div.sk-parallel-item {display: flex;flex-direction: column;z-index: 1;position: relative;background-color: white;}#sk-container-id-2 div.sk-parallel-item:first-child::after {align-self: flex-end;width: 50%;}#sk-container-id-2 div.sk-parallel-item:last-child::after {align-self: flex-start;width: 50%;}#sk-container-id-2 div.sk-parallel-item:only-child::after {width: 0;}#sk-container-id-2 div.sk-dashed-wrapped {border: 1px dashed gray;margin: 0 0.4em 0.5em 0.4em;box-sizing: border-box;padding-bottom: 0.4em;background-color: white;}#sk-container-id-2 div.sk-label label {font-family: monospace;font-weight: bold;display: inline-block;line-height: 1.2em;}#sk-container-id-2 div.sk-label-container {text-align: center;}#sk-container-id-2 div.sk-container {/* jupyter's `normalize.less` sets `[hidden] { display: none; }` but bootstrap.min.css set `[hidden] { display: none !important; }` so we also need the `!important` here to be able to override the default hidden behavior on the sphinx rendered scikit-learn.org. See: https://github.com/scikit-learn/scikit-learn/issues/21755 */display: inline-block !important;position: relative;}#sk-container-id-2 div.sk-text-repr-fallback {display: none;}</style><div id=\"sk-container-id-2\" class=\"sk-top-container\"><div class=\"sk-text-repr-fallback\"><pre>CoxPHSurvivalAnalysis()</pre><b>In a Jupyter environment, please rerun this cell to show the HTML representation or trust the notebook. <br />On GitHub, the HTML representation is unable to render, please try loading this page with nbviewer.org.</b></div><div class=\"sk-container\" hidden><div class=\"sk-item\"><div class=\"sk-estimator sk-toggleable\"><input class=\"sk-toggleable__control sk-hidden--visually\" id=\"sk-estimator-id-2\" type=\"checkbox\" checked><label for=\"sk-estimator-id-2\" class=\"sk-toggleable__label sk-toggleable__label-arrow\">CoxPHSurvivalAnalysis</label><div class=\"sk-toggleable__content\"><pre>CoxPHSurvivalAnalysis()</pre></div></div></div></div></div>"
      ],
      "text/plain": [
       "CoxPHSurvivalAnalysis()"
      ]
     },
     "execution_count": 129,
     "metadata": {},
     "output_type": "execute_result"
    }
   ],
   "source": [
    "estimator = CoxPHSurvivalAnalysis()\n",
    "y = rossi[['arrest','week']] #目的変数 \n",
    "X = rossi.drop(columns=['arrest','week']) #説明変数\n",
    "\n",
    "#dtypeの指定 ?はbool型　i8はint64\n",
    "tp = np.dtype([('arrest','?'), ('week', 'i8')])\n",
    "\n",
    "structured_y = np.zeros(len(y), dtype=tp)\n",
    "structured_y['arrest'] = y['arrest']\n",
    "structured_y['week'] = y['week']\n",
    "estimator.fit(X,structured_y)"
   ]
  },
  {
   "cell_type": "code",
   "execution_count": 224,
   "metadata": {},
   "outputs": [
    {
     "data": {
      "text/plain": [
       "array([-0.37902189, -0.05724593,  0.31412977, -0.1511146 , -0.43278257,\n",
       "       -0.08498284,  0.09111154])"
      ]
     },
     "execution_count": 224,
     "metadata": {},
     "output_type": "execute_result"
    }
   ],
   "source": [
    "estimator.coef_"
   ]
  },
  {
   "cell_type": "code",
   "execution_count": 200,
   "metadata": {},
   "outputs": [],
   "source": [
    "out = estimator.predict_cumulative_hazard_function(X, return_array=True)"
   ]
  },
  {
   "cell_type": "code",
   "execution_count": 201,
   "metadata": {},
   "outputs": [],
   "source": [
    "%matplotlib inline\n",
    "import matplotlib.pyplot as plt "
   ]
  },
  {
   "cell_type": "code",
   "execution_count": 223,
   "metadata": {},
   "outputs": [
    {
     "data": {
      "text/plain": [
       "<matplotlib.collections.PathCollection at 0x7f33c9df15b0>"
      ]
     },
     "execution_count": 223,
     "metadata": {},
     "output_type": "execute_result"
    },
    {
     "data": {
      "image/png": "[encoded data removed]",
      "text/plain": [
       "<Figure size 640x480 with 1 Axes>"
      ]
     },
     "metadata": {},
     "output_type": "display_data"
    }
   ],
   "source": [
    "out = iter(out)\n",
    "y = next(out)\n",
    "x = np.array([i for i in range(len(y))])\n",
    "plt.scatter(x=x,y=y)"
   ]
  },
  {
   "cell_type": "code",
   "execution_count": 203,
   "metadata": {},
   "outputs": [
    {
     "data": {
      "text/plain": [
       "array([0.00239112, 0.00478934, 0.00718926, 0.00959404, 0.01200639,\n",
       "       0.01442881, 0.01686457, 0.02906362, 0.03401251, 0.03649398,\n",
       "       0.04150468, 0.04661444, 0.04917529, 0.05689028, 0.0621005 ,\n",
       "       0.06734078, 0.07522825, 0.08325478, 0.0886663 , 0.10229328,\n",
       "       0.10780378, 0.11057082, 0.11335363, 0.12449961, 0.13292615,\n",
       "       0.14153812, 0.14731504, 0.15312408, 0.15899112, 0.16194478,\n",
       "       0.16788069, 0.17385925, 0.1799224 , 0.19215304, 0.20144154,\n",
       "       0.21394773, 0.21711637, 0.2234796 , 0.23626624, 0.24277227,\n",
       "       0.25582955, 0.26245396, 0.26912791, 0.28262391, 0.28603444,\n",
       "       0.29288663, 0.31018726, 0.32071431, 0.33497937])"
      ]
     },
     "execution_count": 203,
     "metadata": {},
     "output_type": "execute_result"
    }
   ],
   "source": [
    "y"
   ]
  },
  {
   "cell_type": "code",
   "execution_count": 167,
   "metadata": {},
   "outputs": [
    {
     "data": {
      "text/plain": [
       "array([0.99886293, 0.99772379, 0.99658514, 0.99544548, 0.99430354,\n",
       "       0.99315816, 0.99200781, 0.98626646, 0.98394681, 0.98278574,\n",
       "       0.98044544, 0.97806461, 0.97687359, 0.9732942 , 0.97088433,\n",
       "       0.96846657, 0.9648388 , 0.96116102, 0.95868936, 0.95249349,\n",
       "       0.94999938, 0.94874945, 0.94749406, 0.94248246, 0.93871122,\n",
       "       0.93487258, 0.93230642, 0.9297331 , 0.92714128, 0.92583922,\n",
       "       0.92322801, 0.92060548, 0.91795345, 0.91262699, 0.90860249,\n",
       "       0.90321186, 0.90185114, 0.89912476, 0.8936711 , 0.89090891,\n",
       "       0.88539106, 0.88260474, 0.87980646, 0.87417487, 0.87275745,\n",
       "       0.8699166 , 0.86278503, 0.85847427, 0.85266716])"
      ]
     },
     "execution_count": 167,
     "metadata": {},
     "output_type": "execute_result"
    }
   ],
   "source": [
    "next(out)"
   ]
  },
  {
   "cell_type": "code",
   "execution_count": null,
   "metadata": {},
   "outputs": [],
   "source": []
  }
 ],
 "metadata": {
  "kernelspec": {
   "display_name": "predict",
   "language": "python",
   "name": "python3"
  },
  "language_info": {
   "codemirror_mode": {
    "name": "ipython",
    "version": 3
   },
   "file_extension": ".py",
   "mimetype": "text/x-python",
   "name": "python",
   "nbconvert_exporter": "python",
   "pygments_lexer": "ipython3",
   "version": "3.9.16"
  },
  "orig_nbformat": 4
 },
 "nbformat": 4,
 "nbformat_minor": 2
}
