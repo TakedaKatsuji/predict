{
 "cells": [
  {
   "cell_type": "code",
   "execution_count": 279,
   "metadata": {},
   "outputs": [],
   "source": [
    "import numpy as np\n",
    "import pandas as pd"
   ]
  },
  {
   "cell_type": "code",
   "execution_count": 391,
   "metadata": {},
   "outputs": [
    {
     "data": {
      "text/plain": [
       "0.09033574559754973"
      ]
     },
     "execution_count": 391,
     "metadata": {},
     "output_type": "execute_result"
    }
   ],
   "source": [
    "age = 26\n",
    "(age/10)**-2-.0287449295, age-56.3254902\n",
    "(age/10)**-2*np.log(age/10)-.0510121013"
   ]
  },
  {
   "cell_type": "markdown",
   "metadata": {},
   "source": [
    "# input"
   ]
  },
  {
   "cell_type": "code",
   "execution_count": 280,
   "metadata": {},
   "outputs": [],
   "source": [
    "## ----input, echo=FALSE---------------------------------------------------\n",
    "age_start = 65\n",
    "screen = 0     # Clinically detected = 0, screen detected = 1\n",
    "size = 25    # Tumour size mm\n",
    "grade = 2     # Tumour grade\n",
    "nodes = 2     # Number positive nodes\n",
    "er = 1     # ER+ = 1, ER- = 0\n",
    "her2 = 0     # HER2+ = 1, HER2- = 0, missing = 9\n",
    "ki67 = 1     # KI67+ = 1, KI67- = 0, missing = 9\n",
    "pr = 1     # PR+ = 1, PR- = 0, missing = 9\n",
    "\n",
    "## --- treatment\n",
    "generation = 2     # Chemo generation 0, 2 or 3 only\n",
    "horm =  1     # Hormone therapy Yes = 1, no = 0\n",
    "traz =  0     # Trastuzumab therapy Yes = 1, no = 0\n",
    "bis =  1     # Bisphosphonate therapy Yes = 1, no = 0\n",
    "radio =  1     # Radiotherapy Yes = 1, no = 0\n",
    "heart_gy =  1     # Number of grays radiotherapy to heart\n",
    "\n",
    "## --- lifestyle\n",
    "smoker =  1     # Never/ex = 0, current = 1"
   ]
  },
  {
   "cell_type": "code",
   "execution_count": 281,
   "metadata": {},
   "outputs": [],
   "source": [
    "def ifelse(condition, true_value, false_value):\n",
    "    return true_value if condition else false_value\n",
    "\n",
    "def c(start, end):\n",
    "    return list(range(start, end+1))\n",
    "\n",
    "def rep(item, num):\n",
    "    return [item for i in range(num)]"
   ]
  },
  {
   "cell_type": "code",
   "execution_count": 282,
   "metadata": {},
   "outputs": [],
   "source": [
    "##----------------------------------------------------------------\n",
    "##[WINTON FIX] Fix inputs for missing data\n",
    "screen    <- ifelse(screen == 2, 0.204, screen)\n",
    "grade     <- ifelse(grade == 9, 2.13, grade)\n",
    "## ------------------------------------------------------------------------\n",
    "time = c(1,15)\n",
    "age = map(lambda x: x + age_start - 1, time)\n",
    "##[WINTON FIX] - Input changed to include grade = 9\n",
    "grade_val = ifelse(er==1, grade, ifelse(grade>=2, 1, 0)) # Grade variable for ER neg"
   ]
  },
  {
   "cell_type": "code",
   "execution_count": 283,
   "metadata": {},
   "outputs": [],
   "source": [
    "## ------------------------------------------------------------------------\n",
    "age_mfp_1 = ifelse(er==1, (age_start/10)**-2-0.0287449295, age_start-56.3254902)\n",
    "age_beta_1 =  ifelse(er==1, 34.53642, 0.0089827)\n",
    "age_mfp_2 =  ifelse(er==1, (age_start/10)**-2*np.log(age_start/10)-0.0510121013, 0)\n",
    "age_beta_2 =  ifelse(er==1, -34.20342, 0)\n",
    "size_mfp = ifelse(er==1, np.log(size/100)+1.545233938, (size/100)**0.5-.5090456276)\n",
    "size_beta =  ifelse(er==1, 0.7530729, 2.093446)\n",
    "nodes_mfp =  ifelse(er==1, np.log((nodes+1)/10)+1.387566896, np.log((nodes+1)/10)+1.086916249)\n",
    "nodes_beta =  ifelse(er==1, 0.7060723, .6260541)\n",
    "grade_beta =  ifelse(er==1, 0.746655, 1.129091)\n",
    "screen_beta = ifelse(er==1, -0.22763366, 0)\n",
    "her2_beta = ifelse(her2==1, 0.2413,\n",
    "                      ifelse(her2==0, -0.0762,0 ))\n",
    "ki67_beta =  ifelse(ki67==1 & er==1, 0.14904,\n",
    "                      ifelse(ki67==0 & er==1, -0.11333,0 ))\n",
    "pr_beta = ifelse(pr==1 & er==1, -0.0619,\n",
    "                      ifelse(pr==0 & er==1, 0.2624,\n",
    "                             ifelse(pr==1 & er==0, -0.2231,\n",
    "                                    ifelse(pr==0 & er==0, 0.0296, 0))))"
   ]
  },
  {
   "cell_type": "code",
   "execution_count": 284,
   "metadata": {},
   "outputs": [
    {
     "name": "stdout",
     "output_type": "stream",
     "text": [
      "-0.005076290446745561 -0.00507629044674556\n",
      "34.53642 34.53642\n",
      "-0.006709091195820326 -0.00670909119582033\n",
      "-34.20342 -34.20342\n",
      "0.1589395768801094 0.158939576880109\n",
      "0.7530729 0.7530729\n",
      "0.18359409167406393 0.183594091674064\n",
      "0.7060723 0.7060723\n",
      "0.746655 0.746655\n",
      "-0.22763366 -0.22763366\n",
      "-0.0762 -0.0762\n",
      "0.14904 0.14904\n",
      "-0.0619 -0.0619\n"
     ]
    }
   ],
   "source": [
    "print(age_mfp_1, -0.00507629044674556)\n",
    "print(age_beta_1,34.53642 )\n",
    "print(age_mfp_2, -0.00670909119582033)\n",
    "print(age_beta_2, -34.20342)\n",
    "print(size_mfp, 0.158939576880109)\n",
    "print(size_beta, 0.7530729)\n",
    "print(nodes_mfp, 0.183594091674064)\n",
    "print(nodes_beta, 0.7060723)\n",
    "print(grade_beta, 0.746655)\n",
    "print(screen_beta, -0.22763366)\n",
    "print(her2_beta, -0.0762)\n",
    "print(ki67_beta, 0.14904)\n",
    "print(pr_beta, -0.0619)\n"
   ]
  },
  {
   "cell_type": "code",
   "execution_count": 285,
   "metadata": {},
   "outputs": [],
   "source": [
    "## --- smoking adjustment ------------------------------------------------\n",
    "smoker_prop = 0.1  # Proportion of population that are current smokers\n",
    "smoker_rr    = 2    # Relative risk non-br mortality in smokers\n",
    "cvd_prop     = 0.25 # Proportion of non-br mortality due to smoking related disease\n",
    "                     # Proportion of I2*, I6*, C15 and C34 in SEARCH breast deaths\n",
    "smoker_rr_acm = cvd_prop*smoker_rr + 1 - cvd_prop\n",
    "\n",
    "smoker_beta = ifelse(smoker==0, np.log(1/(1 - smoker_prop + smoker_rr_acm*smoker_prop)),\n",
    "                      np.log(smoker_rr_acm/(1 - smoker_prop + smoker_rr_acm*smoker_prop))) # Assume smoking RR of 2 and 10% population smokers\n"
   ]
  },
  {
   "cell_type": "code",
   "execution_count": 286,
   "metadata": {},
   "outputs": [
    {
     "name": "stdout",
     "output_type": "stream",
     "text": [
      "0.19845093872383843 0.198450938723838\n"
     ]
    }
   ],
   "source": [
    "print(smoker_beta,0.198450938723838)"
   ]
  },
  {
   "cell_type": "code",
   "execution_count": 287,
   "metadata": {},
   "outputs": [],
   "source": [
    "## ----baseline_adjust-----------------------------------------------------\n",
    "c_other  = 1.2  # RH non-breast mortality from Kerr et al (2022)\n",
    "r_prop   = 0.69 # Proportion of population receiving radiotherapy\n",
    "r_breast = 0.82 # Relative hazard breast specific mortality from Darby et al\n",
    "r_other  = 1.04 # Relative hazard other mortality per Gy heart dose from Taylor et al (2017)\n",
    "\n",
    "r_base_br  = np.log(1/((1-r_prop) + r_prop*r_breast))\n",
    "r_base_oth = np.log(1/((1-r_prop) + r_prop*(r_other**2))) # Assume 2 Gy average heart dose\n"
   ]
  },
  {
   "cell_type": "code",
   "execution_count": 288,
   "metadata": {},
   "outputs": [
    {
     "name": "stdout",
     "output_type": "stream",
     "text": [
      "0.13261752461483914 0.132617524614839\n",
      "-0.054776022642801195 -0.0547760226428012\n"
     ]
    }
   ],
   "source": [
    "print(r_base_br,0.132617524614839)\n",
    "print(r_base_oth,-0.0547760226428012)"
   ]
  },
  {
   "cell_type": "code",
   "execution_count": 289,
   "metadata": {},
   "outputs": [],
   "source": [
    "## ------------------------------------------------------------------------\n",
    "# Other mortality prognostic index (mi)\n",
    "c_oth = ifelse(generation==0, 0, np.log(c_other))\n",
    "r_oth = ifelse(radio==0, 0, np.log(r_other)*heart_gy)\n",
    "mi = 0.0698252*((age_start/10)**2-34.23391957) + r_base_oth + smoker_beta + c_oth + r_oth\n"
   ]
  },
  {
   "cell_type": "code",
   "execution_count": 290,
   "metadata": {},
   "outputs": [
    {
     "name": "stdout",
     "output_type": "stream",
     "text": [
      "0.9249416052691093 0.924941605269109\n"
     ]
    }
   ],
   "source": [
    "print(mi, 0.924941605269109)"
   ]
  },
  {
   "cell_type": "code",
   "execution_count": 291,
   "metadata": {},
   "outputs": [],
   "source": [
    "# Breast cancer mortality prognostic index (pi)\n",
    "pi = age_beta_1*age_mfp_1 + age_beta_2*age_mfp_2 + size_beta*size_mfp \\\n",
    "    + nodes_beta*nodes_mfp + grade_beta*grade_val +screen_beta*screen \\\n",
    "        + her2_beta + ki67_beta + pr_beta + r_base_br\n",
    "\n",
    "c     = ifelse(generation == 0, 0, ifelse(generation == 2, -0.248, -0.446))\n",
    "h     = ifelse(horm==1 & er==1, -0.3857, 0)\n",
    "h10  = ifelse(h==0, 0, rep(h, 10)+rep(-0.26+h, 5)) #including both ATLAS and aTTom trials\n",
    "t     = ifelse(her2==1 & traz==1, -.3567, 0)\n",
    "b     = ifelse(bis==1, -0.198, 0) # Only applicable to menopausal women.\n",
    "r  = ifelse(radio==1, np.log(r_breast), 0)\n",
    "\n",
    "rx = pd.DataFrame(rep(pi,15),columns=['s'])\n",
    "rx['rx'] = r + h + c + t + b + pi\n",
    "rx['rx10'] = r + h10 + c + t + b + pi\n",
    "\n",
    "cols = len(rx.columns)\n"
   ]
  },
  {
   "cell_type": "code",
   "execution_count": 292,
   "metadata": {},
   "outputs": [
    {
     "data": {
      "text/plain": [
       "(1.9403482803535856, 1.94034828035359)"
      ]
     },
     "execution_count": 292,
     "metadata": {},
     "output_type": "execute_result"
    }
   ],
   "source": [
    "pi,1.94034828035359"
   ]
  },
  {
   "cell_type": "code",
   "execution_count": 293,
   "metadata": {},
   "outputs": [
    {
     "name": "stdout",
     "output_type": "stream",
     "text": [
      "1.9403482803535856\n",
      "-0.248\n",
      "-0.3857\n",
      "[-0.3857, -0.3857, -0.3857, -0.3857, -0.3857, -0.3857, -0.3857, -0.3857, -0.3857, -0.3857, -0.6456999999999999, -0.6456999999999999, -0.6456999999999999, -0.6456999999999999, -0.6456999999999999]\n",
      "0\n",
      "-0.198\n",
      "-0.19845093872383832\n",
      "3\n"
     ]
    }
   ],
   "source": [
    "print(pi)\n",
    "print(c)\n",
    "print(h)\n",
    "print(h10)\n",
    "print(t)\n",
    "print(b)\n",
    "print(r)\n",
    "print(cols)"
   ]
  },
  {
   "cell_type": "code",
   "execution_count": 326,
   "metadata": {},
   "outputs": [],
   "source": [
    "## ------------------------------------------------------------------------\n",
    "# Generate cumulative baseline other mortality\n",
    "base_m_cum_oth = np.exp(-6.052919 + (1.079863*np.log(time)) + 0.3255321*np.array(list(map(lambda x: x**0.5, time))))\n",
    "\n",
    "# Generate cumulative survival non-breast mortality\n",
    "# Incorporates the increased mortality associated with chemo and radiotherapy\n",
    "s_cum_oth = np.exp(-np.exp(mi + c_oth + r_oth)*base_m_cum_oth)\n",
    "\n",
    "# Convert cumulative mortality rate into cumulative risk\n",
    "m_cum_oth = 1- s_cum_oth\n",
    "\n",
    "# Annual other mortality rate\n",
    "m_oth = np.array([i for i in m_cum_oth])\n",
    "\n",
    "for i in range(1,15):\n",
    "    m_oth[i] = m_cum_oth[i] - m_cum_oth[i-1]"
   ]
  },
  {
   "cell_type": "code",
   "execution_count": 336,
   "metadata": {},
   "outputs": [],
   "source": [
    "## ------------------------------------------------------------------------\n",
    "# Generate cumulative baseline breast mortality\n",
    "time = np.array(time)\n",
    "base_m_cum_br = ifelse(\n",
    "    er==1,\n",
    "    np.exp(0.7424402 - 7.527762/time**0.5 - 1.812513*np.log(time)/time**0.5),\n",
    "    np.exp(-1.156036 + 0.4707332/time**2 - 3.51355/time)\n",
    "    )"
   ]
  },
  {
   "cell_type": "code",
   "execution_count": 337,
   "metadata": {},
   "outputs": [],
   "source": [
    "# Generate annual baseline breast mortality\n",
    "base_m_br = np.array([i for i in base_m_cum_br])\n",
    "for i in range(1,15):\n",
    "    base_m_br[i] = base_m_cum_br[i] - base_m_cum_br[i-1]\n"
   ]
  },
  {
   "cell_type": "code",
   "execution_count": 382,
   "metadata": {},
   "outputs": [
    {
     "data": {
      "text/html": [
       "<div>\n",
       "<style scoped>\n",
       "    .dataframe tbody tr th:only-of-type {\n",
       "        vertical-align: middle;\n",
       "    }\n",
       "\n",
       "    .dataframe tbody tr th {\n",
       "        vertical-align: top;\n",
       "    }\n",
       "\n",
       "    .dataframe thead th {\n",
       "        text-align: right;\n",
       "    }\n",
       "</style>\n",
       "<table border=\"1\" class=\"dataframe\">\n",
       "  <thead>\n",
       "    <tr style=\"text-align: right;\">\n",
       "      <th></th>\n",
       "      <th>s</th>\n",
       "      <th>rx</th>\n",
       "      <th>rx10</th>\n",
       "    </tr>\n",
       "  </thead>\n",
       "  <tbody>\n",
       "    <tr>\n",
       "      <th>0</th>\n",
       "      <td>0.007868</td>\n",
       "      <td>0.002808</td>\n",
       "      <td>0.002808</td>\n",
       "    </tr>\n",
       "    <tr>\n",
       "      <th>1</th>\n",
       "      <td>0.021481</td>\n",
       "      <td>0.007668</td>\n",
       "      <td>0.007668</td>\n",
       "    </tr>\n",
       "    <tr>\n",
       "      <th>2</th>\n",
       "      <td>0.030675</td>\n",
       "      <td>0.010950</td>\n",
       "      <td>0.010950</td>\n",
       "    </tr>\n",
       "    <tr>\n",
       "      <th>3</th>\n",
       "      <td>0.036552</td>\n",
       "      <td>0.013047</td>\n",
       "      <td>0.013047</td>\n",
       "    </tr>\n",
       "    <tr>\n",
       "      <th>4</th>\n",
       "      <td>0.040351</td>\n",
       "      <td>0.014404</td>\n",
       "      <td>0.014404</td>\n",
       "    </tr>\n",
       "    <tr>\n",
       "      <th>5</th>\n",
       "      <td>0.042816</td>\n",
       "      <td>0.015283</td>\n",
       "      <td>0.015283</td>\n",
       "    </tr>\n",
       "    <tr>\n",
       "      <th>6</th>\n",
       "      <td>0.044391</td>\n",
       "      <td>0.015845</td>\n",
       "      <td>0.015845</td>\n",
       "    </tr>\n",
       "    <tr>\n",
       "      <th>7</th>\n",
       "      <td>0.045356</td>\n",
       "      <td>0.016190</td>\n",
       "      <td>0.016190</td>\n",
       "    </tr>\n",
       "    <tr>\n",
       "      <th>8</th>\n",
       "      <td>0.045894</td>\n",
       "      <td>0.016382</td>\n",
       "      <td>0.016382</td>\n",
       "    </tr>\n",
       "    <tr>\n",
       "      <th>9</th>\n",
       "      <td>0.046127</td>\n",
       "      <td>0.016465</td>\n",
       "      <td>0.016465</td>\n",
       "    </tr>\n",
       "    <tr>\n",
       "      <th>10</th>\n",
       "      <td>0.046138</td>\n",
       "      <td>0.016469</td>\n",
       "      <td>0.012698</td>\n",
       "    </tr>\n",
       "    <tr>\n",
       "      <th>11</th>\n",
       "      <td>0.045988</td>\n",
       "      <td>0.016415</td>\n",
       "      <td>0.012657</td>\n",
       "    </tr>\n",
       "    <tr>\n",
       "      <th>12</th>\n",
       "      <td>0.045719</td>\n",
       "      <td>0.016319</td>\n",
       "      <td>0.012583</td>\n",
       "    </tr>\n",
       "    <tr>\n",
       "      <th>13</th>\n",
       "      <td>0.045363</td>\n",
       "      <td>0.016192</td>\n",
       "      <td>0.012485</td>\n",
       "    </tr>\n",
       "    <tr>\n",
       "      <th>14</th>\n",
       "      <td>0.044943</td>\n",
       "      <td>0.016043</td>\n",
       "      <td>0.012370</td>\n",
       "    </tr>\n",
       "  </tbody>\n",
       "</table>\n",
       "</div>"
      ],
      "text/plain": [
       "           s        rx      rx10\n",
       "0   0.007868  0.002808  0.002808\n",
       "1   0.021481  0.007668  0.007668\n",
       "2   0.030675  0.010950  0.010950\n",
       "3   0.036552  0.013047  0.013047\n",
       "4   0.040351  0.014404  0.014404\n",
       "5   0.042816  0.015283  0.015283\n",
       "6   0.044391  0.015845  0.015845\n",
       "7   0.045356  0.016190  0.016190\n",
       "8   0.045894  0.016382  0.016382\n",
       "9   0.046127  0.016465  0.016465\n",
       "10  0.046138  0.016469  0.012698\n",
       "11  0.045988  0.016415  0.012657\n",
       "12  0.045719  0.016319  0.012583\n",
       "13  0.045363  0.016192  0.012485\n",
       "14  0.044943  0.016043  0.012370"
      ]
     },
     "execution_count": 382,
     "metadata": {},
     "output_type": "execute_result"
    }
   ],
   "source": [
    "m_br  = pd.DataFrame(base_m_br * np.exp(rx.s), columns=['s'])\n",
    "m_br['rx'] = base_m_br * np.exp(rx.rx)\n",
    "m_br['rx10'] = base_m_br * np.exp(rx.rx10)\n",
    "m_br"
   ]
  },
  {
   "cell_type": "code",
   "execution_count": 383,
   "metadata": {},
   "outputs": [
    {
     "data": {
      "text/plain": [
       "0     0.910197\n",
       "1     0.910197\n",
       "2     0.910197\n",
       "3     0.910197\n",
       "4     0.910197\n",
       "5     0.910197\n",
       "6     0.910197\n",
       "7     0.910197\n",
       "8     0.910197\n",
       "9     0.910197\n",
       "10    0.910197\n",
       "11    0.910197\n",
       "12    0.910197\n",
       "13    0.910197\n",
       "14    0.910197\n",
       "Name: rx, dtype: float64"
      ]
     },
     "execution_count": 383,
     "metadata": {},
     "output_type": "execute_result"
    }
   ],
   "source": [
    "rx.rx"
   ]
  },
  {
   "cell_type": "code",
   "execution_count": 384,
   "metadata": {},
   "outputs": [
    {
     "data": {
      "text/plain": [
       "0     0.910197\n",
       "1     0.910197\n",
       "2     0.910197\n",
       "3     0.910197\n",
       "4     0.910197\n",
       "5     0.910197\n",
       "6     0.910197\n",
       "7     0.910197\n",
       "8     0.910197\n",
       "9     0.910197\n",
       "10    0.650197\n",
       "11    0.650197\n",
       "12    0.650197\n",
       "13    0.650197\n",
       "14    0.650197\n",
       "Name: rx10, dtype: float64"
      ]
     },
     "execution_count": 384,
     "metadata": {},
     "output_type": "execute_result"
    }
   ],
   "source": [
    "rx.rx10"
   ]
  },
  {
   "cell_type": "code",
   "execution_count": null,
   "metadata": {},
   "outputs": [],
   "source": []
  }
 ],
 "metadata": {
  "kernelspec": {
   "display_name": "predict",
   "language": "python",
   "name": "python3"
  },
  "language_info": {
   "codemirror_mode": {
    "name": "ipython",
    "version": 3
   },
   "file_extension": ".py",
   "mimetype": "text/x-python",
   "name": "python",
   "nbconvert_exporter": "python",
   "pygments_lexer": "ipython3",
   "version": "3.9.16"
  },
  "orig_nbformat": 4
 },
 "nbformat": 4,
 "nbformat_minor": 2
}
